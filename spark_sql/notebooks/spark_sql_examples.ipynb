{
 "cells": [
  {
   "cell_type": "markdown",
   "metadata": {},
   "source": [
    "# Spark SQL\n",
    "\n",
    "Before you begin, make sure that you've installed spark of version `2.3` or higher (see `README.md`)\n",
    "\n",
    "**Links**\n",
    "\n",
    "* https://spark.apache.org/docs/latest/sql-getting-started.html"
   ]
  },
  {
   "cell_type": "code",
   "execution_count": 1,
   "metadata": {},
   "outputs": [
    {
     "name": "stdout",
     "output_type": "stream",
     "text": [
      "/workspace/spark_sql/notebooks\r\n",
      "-rw-r--r-- 1 root root 1.3K Mar  4 15:40 README.md\r\n"
     ]
    }
   ],
   "source": [
    "!pwd && ls -lah | grep README"
   ]
  },
  {
   "cell_type": "code",
   "execution_count": 2,
   "metadata": {},
   "outputs": [
    {
     "name": "stdout",
     "output_type": "stream",
     "text": [
      "Welcome to\n",
      "      ____              __\n",
      "     / __/__  ___ _____/ /__\n",
      "    _\\ \\/ _ \\/ _ `/ __/  '_/\n",
      "   /___/ .__/\\_,_/_/ /_/\\_\\   version 3.0.0-preview2\n",
      "      /_/\n",
      "                        \n",
      "Using Scala version 2.12.10, OpenJDK 64-Bit Server VM, 1.8.0_242\n",
      "Branch HEAD\n",
      "Compiled by user yumwang on 2019-12-17T03:13:33Z\n",
      "Revision bcadd5c3096109878fe26fb0d57a9b7d6fdaa257\n",
      "Url https://gitbox.apache.org/repos/asf/spark.git\n",
      "Type --help for more information.\n"
     ]
    }
   ],
   "source": [
    "! spark-submit --version"
   ]
  },
  {
   "cell_type": "markdown",
   "metadata": {},
   "source": [
    "## Запуск spark"
   ]
  },
  {
   "cell_type": "code",
   "execution_count": 3,
   "metadata": {},
   "outputs": [
    {
     "name": "stderr",
     "output_type": "stream",
     "text": [
      "/usr/local/spark/python/pyspark/context.py:219: DeprecationWarning: Support for Python 2 and Python 3 prior to version 3.6 is deprecated as of Spark 3.0. See also the plan for dropping Python 2 support at https://spark.apache.org/news/plan-for-dropping-python-2-support.html.\n",
      "  DeprecationWarning)\n"
     ]
    }
   ],
   "source": [
    "%matplotlib inline\n",
    "%config InlineBackend.figure_format ='retina'\n",
    "\n",
    "import os\n",
    "import sys\n",
    "import math\n",
    "import glob\n",
    "import pickle\n",
    "import seaborn as sns\n",
    "import matplotlib.pyplot as plt\n",
    "\n",
    "import pyspark\n",
    "from pyspark.conf import SparkConf\n",
    "from pyspark.sql import SQLContext\n",
    "from pyspark.sql import SparkSession\n",
    "\n",
    "\n",
    "spark = SparkSession \\\n",
    "    .builder \\\n",
    "    .master('local[*]') \\\n",
    "    .appName(\"spark_sql_examples\") \\\n",
    "    .config(\"spark.executor.memory\", \"4g\") \\\n",
    "    .getOrCreate()\n",
    "\n",
    "sc = spark.sparkContext\n",
    "sqlContext = SQLContext(sc)"
   ]
  },
  {
   "cell_type": "code",
   "execution_count": 4,
   "metadata": {},
   "outputs": [],
   "source": [
    "DATA_PATH = '/workspace/data/ml-25m'\n",
    "\n",
    "RATINGS_PATH = os.path.join(DATA_PATH, 'ratings.csv')\n",
    "MOVIES_PATH = os.path.join(DATA_PATH, 'movies.csv')\n",
    "TAGS_PATH = os.path.join(DATA_PATH, 'tags.csv')"
   ]
  },
  {
   "cell_type": "markdown",
   "metadata": {},
   "source": [
    "---\n",
    "## DataFrame creation\n",
    "\n",
    "DataFrame можно создать несколькими способами:\n",
    "\n",
    "* из файла\n",
    "* из существующего RDD\n",
    "* из другого DataFrame'a\n",
    "\n",
    "### From file\n",
    "\n",
    "В случае с созданием из csv файла, может понадобится указать схему"
   ]
  },
  {
   "cell_type": "code",
   "execution_count": 9,
   "metadata": {},
   "outputs": [],
   "source": [
    "from pyspark.sql.types import *\n",
    "\n",
    "\n",
    "schema = StructType([\n",
    "    StructField('user_id', IntegerType()),\n",
    "    StructField('movie_id', IntegerType()),\n",
    "    StructField('rating', FloatType()),\n",
    "    StructField('timestamp', IntegerType())\n",
    "])\n",
    "\n",
    "ratings_df = sqlContext.read \\\n",
    "    .format('com.databricks.spark.csv') \\\n",
    "    .schema(schema) \\\n",
    "    .options(header='true', delimiter=',') \\\n",
    "    .load('file:///' + RATINGS_PATH)"
   ]
  },
  {
   "cell_type": "code",
   "execution_count": 6,
   "metadata": {},
   "outputs": [
    {
     "name": "stdout",
     "output_type": "stream",
     "text": [
      "root\n",
      " |-- user_id: integer (nullable = true)\n",
      " |-- movie_id: integer (nullable = true)\n",
      " |-- rating: float (nullable = true)\n",
      " |-- timestamp: integer (nullable = true)\n",
      "\n"
     ]
    }
   ],
   "source": [
    "ratings_df.printSchema()"
   ]
  },
  {
   "cell_type": "code",
   "execution_count": 7,
   "metadata": {},
   "outputs": [
    {
     "data": {
      "text/plain": [
       "[Row(user_id=1, movie_id=296, rating=5.0, timestamp=1147880044),\n",
       " Row(user_id=1, movie_id=306, rating=3.5, timestamp=1147868817),\n",
       " Row(user_id=1, movie_id=307, rating=5.0, timestamp=1147868828),\n",
       " Row(user_id=1, movie_id=665, rating=5.0, timestamp=1147878820),\n",
       " Row(user_id=1, movie_id=899, rating=3.5, timestamp=1147868510)]"
      ]
     },
     "execution_count": 7,
     "metadata": {},
     "output_type": "execute_result"
    }
   ],
   "source": [
    "ratings_df.take(5)"
   ]
  },
  {
   "cell_type": "markdown",
   "metadata": {},
   "source": [
    "### From RDD\n",
    "\n",
    "Для того чтобы построить DataFrame из RDD нужно у RDD вызвать метод `toDF`.\n",
    "\n",
    "*Remark:* RDD можно получить из DataFrame с помощью аттрибута `rdd`."
   ]
  },
  {
   "cell_type": "code",
   "execution_count": 5,
   "metadata": {},
   "outputs": [],
   "source": [
    "ratings = sc.textFile('file:///' + RATINGS_PATH)"
   ]
  },
  {
   "cell_type": "code",
   "execution_count": 16,
   "metadata": {},
   "outputs": [
    {
     "data": {
      "text/plain": [
       "250449"
      ]
     },
     "execution_count": 16,
     "metadata": {},
     "output_type": "execute_result"
    }
   ],
   "source": [
    "ratings.sample(False, 0.01).count()"
   ]
  },
  {
   "cell_type": "code",
   "execution_count": 17,
   "metadata": {},
   "outputs": [
    {
     "data": {
      "text/plain": [
       "['userId,movieId,rating,timestamp',\n",
       " '1,296,5.0,1147880044',\n",
       " '1,306,3.5,1147868817',\n",
       " '1,307,5.0,1147868828',\n",
       " '1,665,5.0,1147878820']"
      ]
     },
     "execution_count": 17,
     "metadata": {},
     "output_type": "execute_result"
    }
   ],
   "source": [
    "ratings.take(5)"
   ]
  },
  {
   "cell_type": "code",
   "execution_count": 18,
   "metadata": {},
   "outputs": [],
   "source": [
    "from pyspark.sql import Row\n",
    "\n",
    "\n",
    "ratings_df = ratings \\\n",
    "    .sample(False, 0.01) \\\n",
    "    .map(lambda s: s.split(',')) \\\n",
    "    .filter(lambda arr: arr[0].isdigit()) \\\n",
    "    .map(lambda arr: Row(user_id=int(arr[0]), \n",
    "                         movie_id=int(arr[1]), \n",
    "                         rating=float(arr[2]), \n",
    "                         timestamp=int(arr[3])))\\\n",
    "    .toDF()"
   ]
  },
  {
   "cell_type": "code",
   "execution_count": 19,
   "metadata": {},
   "outputs": [
    {
     "name": "stdout",
     "output_type": "stream",
     "text": [
      "root\n",
      " |-- movie_id: long (nullable = true)\n",
      " |-- rating: double (nullable = true)\n",
      " |-- timestamp: long (nullable = true)\n",
      " |-- user_id: long (nullable = true)\n",
      "\n"
     ]
    }
   ],
   "source": [
    "ratings_df.printSchema()"
   ]
  },
  {
   "cell_type": "markdown",
   "metadata": {},
   "source": [
    "---\n",
    "## DataFrame API"
   ]
  },
  {
   "cell_type": "code",
   "execution_count": 10,
   "metadata": {},
   "outputs": [],
   "source": [
    "import pyspark.sql.functions as F\n",
    "\n",
    "\n",
    "movies_df = sqlContext.read.format(\"com.databricks.spark.csv\") \\\n",
    "    .option(\"delimiter\", \",\") \\\n",
    "    .option(\"header\", \"true\") \\\n",
    "    .option(\"inferSchema\", \"true\") \\\n",
    "    .load('file:///' + MOVIES_PATH)"
   ]
  },
  {
   "cell_type": "code",
   "execution_count": 21,
   "metadata": {},
   "outputs": [
    {
     "name": "stdout",
     "output_type": "stream",
     "text": [
      "root\n",
      " |-- movieId: integer (nullable = true)\n",
      " |-- title: string (nullable = true)\n",
      " |-- genres: string (nullable = true)\n",
      "\n"
     ]
    }
   ],
   "source": [
    "movies_df.printSchema()"
   ]
  },
  {
   "cell_type": "code",
   "execution_count": 22,
   "metadata": {},
   "outputs": [
    {
     "data": {
      "text/plain": [
       "62423"
      ]
     },
     "execution_count": 22,
     "metadata": {},
     "output_type": "execute_result"
    }
   ],
   "source": [
    "movies_df.count()"
   ]
  },
  {
   "cell_type": "markdown",
   "metadata": {},
   "source": [
    "### Фильмы с наибольшим средним рейтингом\n",
    "\n",
    "Найти 10 фильмов с наибольшим средним рейтингом. Вывести их названия и средний рейтинг.\n",
    "\n",
    "Сравните код ниже с кодом, использующим RDD API (см. `apache_spark/notebooks/spark_examples.ipynb`):\n",
    "\n",
    "```\n",
    "ratings \\\n",
    "    .map(lambda r: (r.movie_id, (r.rating, 1))) \\\n",
    "    .reduceByKey(lambda a, b: (a[0] + b[0], a[1] + b[1])) \\\n",
    "    .mapValues(lambda ratings: ratings[0] / ratings[1]) \\\n",
    "    .join(movies) \\\n",
    "    .sortBy(lambda key_value: key_value[1][0], ascending=False) \\\n",
    "    .take(10)\n",
    "```"
   ]
  },
  {
   "cell_type": "code",
   "execution_count": 23,
   "metadata": {},
   "outputs": [
    {
     "data": {
      "text/plain": [
       "[Row(movie_id=205857, mean_rating=5.0, ratings_count=1, movieId=205857, title='Judy (2019)', genres='Drama|Romance'),\n",
       " Row(movie_id=8330, mean_rating=5.0, ratings_count=1, movieId=8330, title='Our Man in Havana (1959)', genres='Comedy|Drama|Thriller'),\n",
       " Row(movie_id=1145, mean_rating=5.0, ratings_count=1, movieId=1145, title='Snowriders (1996)', genres='Documentary'),\n",
       " Row(movie_id=27919, mean_rating=5.0, ratings_count=1, movieId=27919, title='Fahrenhype 9/11 (2004)', genres='Documentary'),\n",
       " Row(movie_id=143389, mean_rating=5.0, ratings_count=1, movieId=143389, title='Les Misérables in Concert - The 25th Anniversary (2010)', genres='(no genres listed)'),\n",
       " Row(movie_id=63676, mean_rating=5.0, ratings_count=1, movieId=63676, title='Face of Another, The (Tanin no kao) (1966)', genres='Drama|Sci-Fi'),\n",
       " Row(movie_id=140194, mean_rating=5.0, ratings_count=1, movieId=140194, title=\"Inside Hana's Suitcase (2012)\", genres='Documentary'),\n",
       " Row(movie_id=188933, mean_rating=5.0, ratings_count=1, movieId=188933, title=\"Parade's End (2012)\", genres='Drama|Romance|War'),\n",
       " Row(movie_id=71575, mean_rating=5.0, ratings_count=1, movieId=71575, title='Rudo y Cursi (Rough and Vulgar) (2008)', genres='Comedy|Drama'),\n",
       " Row(movie_id=95939, mean_rating=5.0, ratings_count=1, movieId=95939, title=\"Angels' Share, The (2012)\", genres='Comedy|Drama')]"
      ]
     },
     "execution_count": 23,
     "metadata": {},
     "output_type": "execute_result"
    }
   ],
   "source": [
    "ratings_df \\\n",
    "    .groupby('movie_id') \\\n",
    "    .agg(F.mean('rating').alias('mean_rating'), \n",
    "         F.count('rating').alias('ratings_count')) \\\n",
    "    .join(movies_df, ratings_df['movie_id'] == movies_df['movieId'], how='inner') \\\n",
    "    .sort(F.col('mean_rating').desc()) \\\n",
    "    .take(10)"
   ]
  },
  {
   "cell_type": "markdown",
   "metadata": {},
   "source": [
    "### Фильмы с наибольшим числом оценок\n",
    "\n",
    "Найти 10 фильмов с наибольшим числом оценок. Вывести их названия и число оценок"
   ]
  },
  {
   "cell_type": "code",
   "execution_count": 24,
   "metadata": {},
   "outputs": [],
   "source": [
    "movies_frequency_pdf = ratings_df \\\n",
    "    .groupby('movie_id') \\\n",
    "    .count() \\\n",
    "    .join(movies_df, ratings_df['movie_id'] == movies_df['movieId']) \\\n",
    "    .sort(F.col('count').desc()) \\\n",
    "    .toPandas()"
   ]
  },
  {
   "cell_type": "code",
   "execution_count": 25,
   "metadata": {},
   "outputs": [
    {
     "data": {
      "text/html": [
       "<div>\n",
       "<style scoped>\n",
       "    .dataframe tbody tr th:only-of-type {\n",
       "        vertical-align: middle;\n",
       "    }\n",
       "\n",
       "    .dataframe tbody tr th {\n",
       "        vertical-align: top;\n",
       "    }\n",
       "\n",
       "    .dataframe thead th {\n",
       "        text-align: right;\n",
       "    }\n",
       "</style>\n",
       "<table border=\"1\" class=\"dataframe\">\n",
       "  <thead>\n",
       "    <tr style=\"text-align: right;\">\n",
       "      <th></th>\n",
       "      <th>movie_id</th>\n",
       "      <th>count</th>\n",
       "      <th>movieId</th>\n",
       "      <th>title</th>\n",
       "      <th>genres</th>\n",
       "    </tr>\n",
       "  </thead>\n",
       "  <tbody>\n",
       "    <tr>\n",
       "      <th>0</th>\n",
       "      <td>318</td>\n",
       "      <td>822</td>\n",
       "      <td>318</td>\n",
       "      <td>Shawshank Redemption, The (1994)</td>\n",
       "      <td>Crime|Drama</td>\n",
       "    </tr>\n",
       "    <tr>\n",
       "      <th>1</th>\n",
       "      <td>356</td>\n",
       "      <td>816</td>\n",
       "      <td>356</td>\n",
       "      <td>Forrest Gump (1994)</td>\n",
       "      <td>Comedy|Drama|Romance|War</td>\n",
       "    </tr>\n",
       "    <tr>\n",
       "      <th>2</th>\n",
       "      <td>2571</td>\n",
       "      <td>739</td>\n",
       "      <td>2571</td>\n",
       "      <td>Matrix, The (1999)</td>\n",
       "      <td>Action|Sci-Fi|Thriller</td>\n",
       "    </tr>\n",
       "    <tr>\n",
       "      <th>3</th>\n",
       "      <td>296</td>\n",
       "      <td>731</td>\n",
       "      <td>296</td>\n",
       "      <td>Pulp Fiction (1994)</td>\n",
       "      <td>Comedy|Crime|Drama|Thriller</td>\n",
       "    </tr>\n",
       "    <tr>\n",
       "      <th>4</th>\n",
       "      <td>593</td>\n",
       "      <td>728</td>\n",
       "      <td>593</td>\n",
       "      <td>Silence of the Lambs, The (1991)</td>\n",
       "      <td>Crime|Horror|Thriller</td>\n",
       "    </tr>\n",
       "    <tr>\n",
       "      <th>5</th>\n",
       "      <td>260</td>\n",
       "      <td>676</td>\n",
       "      <td>260</td>\n",
       "      <td>Star Wars: Episode IV - A New Hope (1977)</td>\n",
       "      <td>Action|Adventure|Sci-Fi</td>\n",
       "    </tr>\n",
       "    <tr>\n",
       "      <th>6</th>\n",
       "      <td>480</td>\n",
       "      <td>650</td>\n",
       "      <td>480</td>\n",
       "      <td>Jurassic Park (1993)</td>\n",
       "      <td>Action|Adventure|Sci-Fi|Thriller</td>\n",
       "    </tr>\n",
       "    <tr>\n",
       "      <th>7</th>\n",
       "      <td>1196</td>\n",
       "      <td>579</td>\n",
       "      <td>1196</td>\n",
       "      <td>Star Wars: Episode V - The Empire Strikes Back...</td>\n",
       "      <td>Action|Adventure|Sci-Fi</td>\n",
       "    </tr>\n",
       "    <tr>\n",
       "      <th>8</th>\n",
       "      <td>527</td>\n",
       "      <td>577</td>\n",
       "      <td>527</td>\n",
       "      <td>Schindler's List (1993)</td>\n",
       "      <td>Drama|War</td>\n",
       "    </tr>\n",
       "    <tr>\n",
       "      <th>9</th>\n",
       "      <td>589</td>\n",
       "      <td>574</td>\n",
       "      <td>589</td>\n",
       "      <td>Terminator 2: Judgment Day (1991)</td>\n",
       "      <td>Action|Sci-Fi</td>\n",
       "    </tr>\n",
       "  </tbody>\n",
       "</table>\n",
       "</div>"
      ],
      "text/plain": [
       "   movie_id  count  movieId  \\\n",
       "0       318    822      318   \n",
       "1       356    816      356   \n",
       "2      2571    739     2571   \n",
       "3       296    731      296   \n",
       "4       593    728      593   \n",
       "5       260    676      260   \n",
       "6       480    650      480   \n",
       "7      1196    579     1196   \n",
       "8       527    577      527   \n",
       "9       589    574      589   \n",
       "\n",
       "                                               title  \\\n",
       "0                   Shawshank Redemption, The (1994)   \n",
       "1                                Forrest Gump (1994)   \n",
       "2                                 Matrix, The (1999)   \n",
       "3                                Pulp Fiction (1994)   \n",
       "4                   Silence of the Lambs, The (1991)   \n",
       "5          Star Wars: Episode IV - A New Hope (1977)   \n",
       "6                               Jurassic Park (1993)   \n",
       "7  Star Wars: Episode V - The Empire Strikes Back...   \n",
       "8                            Schindler's List (1993)   \n",
       "9                  Terminator 2: Judgment Day (1991)   \n",
       "\n",
       "                             genres  \n",
       "0                       Crime|Drama  \n",
       "1          Comedy|Drama|Romance|War  \n",
       "2            Action|Sci-Fi|Thriller  \n",
       "3       Comedy|Crime|Drama|Thriller  \n",
       "4             Crime|Horror|Thriller  \n",
       "5           Action|Adventure|Sci-Fi  \n",
       "6  Action|Adventure|Sci-Fi|Thriller  \n",
       "7           Action|Adventure|Sci-Fi  \n",
       "8                         Drama|War  \n",
       "9                     Action|Sci-Fi  "
      ]
     },
     "execution_count": 25,
     "metadata": {},
     "output_type": "execute_result"
    }
   ],
   "source": [
    "movies_frequency_pdf.head(10)"
   ]
  },
  {
   "cell_type": "markdown",
   "metadata": {},
   "source": [
    "---\n",
    "## SQL"
   ]
  },
  {
   "cell_type": "code",
   "execution_count": 26,
   "metadata": {},
   "outputs": [],
   "source": [
    "ratings_df.createTempView('ratings')\n",
    "movies_df.createTempView('movies')"
   ]
  },
  {
   "cell_type": "code",
   "execution_count": 27,
   "metadata": {},
   "outputs": [
    {
     "name": "stdout",
     "output_type": "stream",
     "text": [
      "+--------+--------+--------------------+\n",
      "|movie_id|count(1)|               title|\n",
      "+--------+--------+--------------------+\n",
      "|     318|     822|Shawshank Redempt...|\n",
      "|     356|     816| Forrest Gump (1994)|\n",
      "|     296|     731| Pulp Fiction (1994)|\n",
      "|     380|     453|    True Lies (1994)|\n",
      "|     364|     436|Lion King, The (1...|\n",
      "|     377|     368|        Speed (1994)|\n",
      "|     344|     363|Ace Ventura: Pet ...|\n",
      "|     367|     339|    Mask, The (1994)|\n",
      "|     293|     314|Léon: The Profess...|\n",
      "|     316|     308|     Stargate (1994)|\n",
      "|     231|     303|Dumb & Dumber (Du...|\n",
      "|     349|     294|Clear and Present...|\n",
      "|     253|     291|Interview with th...|\n",
      "|     329|     267|Star Trek: Genera...|\n",
      "|     223|     247|       Clerks (1994)|\n",
      "|     288|     224|Natural Born Kill...|\n",
      "|     300|     206|    Quiz Show (1994)|\n",
      "|     357|     206|Four Weddings and...|\n",
      "|     368|     176|     Maverick (1994)|\n",
      "|     350|     174|  Client, The (1994)|\n",
      "+--------+--------+--------------------+\n",
      "only showing top 20 rows\n",
      "\n"
     ]
    }
   ],
   "source": [
    "query = \"\"\"\n",
    "    SELECT movie_id, COUNT(*), first(title) as title\n",
    "    FROM ratings INNER JOIN movies ON ratings.movie_id == movies.movieId\n",
    "    WHERE movies.title LIKE '%(1994)%'\n",
    "    GROUP BY movie_id\n",
    "    ORDER BY COUNT(*) DESC\n",
    "\"\"\"\n",
    "\n",
    "movies_frequency = spark.sql(query)\n",
    "movies_frequency.show()"
   ]
  },
  {
   "cell_type": "code",
   "execution_count": 28,
   "metadata": {
    "scrolled": false
   },
   "outputs": [
    {
     "name": "stdout",
     "output_type": "stream",
     "text": [
      "== Parsed Logical Plan ==\n",
      "'Sort ['COUNT(1) DESC NULLS LAST], true\n",
      "+- 'Aggregate ['movie_id], ['movie_id, unresolvedalias('COUNT(1), None), first('title, false) AS title#136]\n",
      "   +- 'Filter 'movies.title LIKE %(1994)%\n",
      "      +- 'Join Inner, ('ratings.movie_id = 'movies.movieId)\n",
      "         :- 'UnresolvedRelation [ratings]\n",
      "         +- 'UnresolvedRelation [movies]\n",
      "\n",
      "== Analyzed Logical Plan ==\n",
      "movie_id: bigint, count(1): bigint, title: string\n",
      "Project [movie_id#0L, count(1)#139L, title#136]\n",
      "+- Sort [count(1)#139L DESC NULLS LAST], true\n",
      "   +- Aggregate [movie_id#0L], [movie_id#0L, count(1) AS count(1)#139L, first(title#23, false) AS title#136]\n",
      "      +- Filter title#23 LIKE %(1994)%\n",
      "         +- Join Inner, (movie_id#0L = cast(movieId#22 as bigint))\n",
      "            :- SubqueryAlias `ratings`\n",
      "            :  +- LogicalRDD [movie_id#0L, rating#1, timestamp#2L, user_id#3L], false\n",
      "            +- SubqueryAlias `movies`\n",
      "               +- Relation[movieId#22,title#23,genres#24] csv\n",
      "\n",
      "== Optimized Logical Plan ==\n",
      "Sort [count(1)#139L DESC NULLS LAST], true\n",
      "+- Aggregate [movie_id#0L], [movie_id#0L, count(1) AS count(1)#139L, first(title#23, false) AS title#136]\n",
      "   +- Project [movie_id#0L, title#23]\n",
      "      +- Join Inner, (movie_id#0L = cast(movieId#22 as bigint))\n",
      "         :- Project [movie_id#0L]\n",
      "         :  +- Filter isnotnull(movie_id#0L)\n",
      "         :     +- LogicalRDD [movie_id#0L, rating#1, timestamp#2L, user_id#3L], false\n",
      "         +- Project [movieId#22, title#23]\n",
      "            +- Filter ((isnotnull(title#23) AND Contains(title#23, (1994))) AND isnotnull(movieId#22))\n",
      "               +- Relation[movieId#22,title#23,genres#24] csv\n",
      "\n",
      "== Physical Plan ==\n",
      "*(4) Sort [count(1)#139L DESC NULLS LAST], true, 0\n",
      "+- Exchange rangepartitioning(count(1)#139L DESC NULLS LAST, 200), true, [id=#286]\n",
      "   +- SortAggregate(key=[movie_id#0L], functions=[count(1), first(title#23, false)], output=[movie_id#0L, count(1)#139L, title#136])\n",
      "      +- *(3) Sort [movie_id#0L ASC NULLS FIRST], false, 0\n",
      "         +- Exchange hashpartitioning(movie_id#0L, 200), true, [id=#281]\n",
      "            +- SortAggregate(key=[movie_id#0L], functions=[partial_count(1), partial_first(title#23, false)], output=[movie_id#0L, count#147L, first#148, valueSet#149])\n",
      "               +- *(2) Sort [movie_id#0L ASC NULLS FIRST], false, 0\n",
      "                  +- *(2) Project [movie_id#0L, title#23]\n",
      "                     +- *(2) BroadcastHashJoin [movie_id#0L], [cast(movieId#22 as bigint)], Inner, BuildRight\n",
      "                        :- *(2) Project [movie_id#0L]\n",
      "                        :  +- *(2) Filter isnotnull(movie_id#0L)\n",
      "                        :     +- *(2) Scan ExistingRDD[movie_id#0L,rating#1,timestamp#2L,user_id#3L]\n",
      "                        +- BroadcastExchange HashedRelationBroadcastMode(List(cast(input[0, int, true] as bigint))), [id=#274]\n",
      "                           +- *(1) Project [movieId#22, title#23]\n",
      "                              +- *(1) Filter ((isnotnull(title#23) AND Contains(title#23, (1994))) AND isnotnull(movieId#22))\n",
      "                                 +- FileScan csv [movieId#22,title#23] Batched: false, DataFilters: [isnotnull(title#23), Contains(title#23, (1994)), isnotnull(movieId#22)], Format: CSV, Location: InMemoryFileIndex[file:/workspace/data/ml-25m/movies.csv], PartitionFilters: [], PushedFilters: [IsNotNull(title), StringContains(title,(1994)), IsNotNull(movieId)], ReadSchema: struct<movieId:int,title:string>\n",
      "\n"
     ]
    }
   ],
   "source": [
    "spark.sql(query).explain(True)"
   ]
  },
  {
   "cell_type": "markdown",
   "metadata": {},
   "source": [
    "---\n",
    "## User Defined Function (UDF)\n",
    "\n",
    "\n",
    "### Количество вышедших фильмов по годам\n",
    "\n",
    "Мы знаем, что название фильма содержит информацию о дате выхода"
   ]
  },
  {
   "cell_type": "code",
   "execution_count": 29,
   "metadata": {},
   "outputs": [
    {
     "ename": "NameError",
     "evalue": "name 'IntegerType' is not defined",
     "output_type": "error",
     "traceback": [
      "\u001b[0;31m---------------------------------------------------------------------------\u001b[0m",
      "\u001b[0;31mNameError\u001b[0m                                 Traceback (most recent call last)",
      "\u001b[0;32m<ipython-input-29-f00f81e52913>\u001b[0m in \u001b[0;36m<module>\u001b[0;34m\u001b[0m\n\u001b[1;32m      7\u001b[0m \u001b[0;34m\u001b[0m\u001b[0m\n\u001b[1;32m      8\u001b[0m \u001b[0;34m\u001b[0m\u001b[0m\n\u001b[0;32m----> 9\u001b[0;31m \u001b[0mget_release_year_udf\u001b[0m \u001b[0;34m=\u001b[0m \u001b[0mF\u001b[0m\u001b[0;34m.\u001b[0m\u001b[0mudf\u001b[0m\u001b[0;34m(\u001b[0m\u001b[0mget_release_year\u001b[0m\u001b[0;34m,\u001b[0m \u001b[0mIntegerType\u001b[0m\u001b[0;34m(\u001b[0m\u001b[0;34m)\u001b[0m\u001b[0;34m)\u001b[0m\u001b[0;34m\u001b[0m\u001b[0m\n\u001b[0m",
      "\u001b[0;31mNameError\u001b[0m: name 'IntegerType' is not defined"
     ]
    }
   ],
   "source": [
    "import re\n",
    "\n",
    "\n",
    "def get_release_year(title):\n",
    "    result = re.match(r'.*(\\(\\d+\\))', title)\n",
    "    return int(result.group(1)[1:-1]) if result is not None else None\n",
    "\n",
    "\n",
    "get_release_year_udf = F.udf(get_release_year, IntegerType())"
   ]
  },
  {
   "cell_type": "code",
   "execution_count": null,
   "metadata": {},
   "outputs": [],
   "source": [
    "relase_count_by_year = movies_df \\\n",
    "    .withColumn('year', get_release_year_udf('title')) \\\n",
    "    .filter(F.col('year').isNotNull()) \\\n",
    "    .groupby('year') \\\n",
    "    .count() \\\n",
    "    .toPandas()"
   ]
  },
  {
   "cell_type": "code",
   "execution_count": null,
   "metadata": {},
   "outputs": [],
   "source": [
    "plt.figure(figsize=(12, 5))\n",
    "relase_count_by_year.set_index('year')['count'].plot()\n",
    "plt.show()"
   ]
  },
  {
   "cell_type": "markdown",
   "metadata": {},
   "source": [
    "---\n",
    "## Window Functions\n",
    "\n",
    "Хотим понять, сколько времени проходит между последовательными оценками для пользователей, более формально:\n",
    "\n",
    "Для пользователя $u$ есть последовательность $(m_1, r_1, t_1), \\ldots, (m_n, r_n, t_n)$, где $t_i \\leq t_{i+1}$. Рассмотрим последовательность $\\Delta_i = t_{i+1} - t_i$, для $i=1,\\ldots,n-1$.\n",
    "\n",
    "Хотим построить распределение величины $\\Delta_i$ используя информацию обо всех пользователях."
   ]
  },
  {
   "cell_type": "code",
   "execution_count": 30,
   "metadata": {},
   "outputs": [
    {
     "data": {
      "text/plain": [
       "[Row(movie_id=33794, rating=4.0, timestamp=1456600302, user_id=1677, next_timestamp=1456601006),\n",
       " Row(movie_id=30825, rating=3.0, timestamp=1456601006, user_id=1677, next_timestamp=1456601298),\n",
       " Row(movie_id=1265, rating=4.0, timestamp=1168864541, user_id=1806, next_timestamp=1168864623),\n",
       " Row(movie_id=6934, rating=2.0, timestamp=1168864623, user_id=1806, next_timestamp=1168864966),\n",
       " Row(movie_id=306, rating=4.0, timestamp=1047935015, user_id=1950, next_timestamp=1047935259),\n",
       " Row(movie_id=2572, rating=3.0, timestamp=1047935259, user_id=1950, next_timestamp=1047936161),\n",
       " Row(movie_id=1079, rating=5.0, timestamp=1047936161, user_id=1950, next_timestamp=1047936923),\n",
       " Row(movie_id=1172, rating=5.0, timestamp=1048375337, user_id=2040, next_timestamp=1048376492),\n",
       " Row(movie_id=344, rating=4.0, timestamp=857346304, user_id=2250, next_timestamp=858442247),\n",
       " Row(movie_id=37729, rating=4.0, timestamp=1219142741, user_id=2453, next_timestamp=1219291083)]"
      ]
     },
     "execution_count": 30,
     "metadata": {},
     "output_type": "execute_result"
    }
   ],
   "source": [
    "from pyspark.sql.window import Window\n",
    "\n",
    "\n",
    "user_window = Window.orderBy('timestamp').partitionBy('user_id')\n",
    "\n",
    "ratings_df \\\n",
    "    .withColumn('next_timestamp', F.lead('timestamp').over(user_window)) \\\n",
    "    .filter(F.col('next_timestamp').isNotNull()) \\\n",
    "    .take(10)"
   ]
  },
  {
   "cell_type": "code",
   "execution_count": 31,
   "metadata": {},
   "outputs": [
    {
     "data": {
      "text/plain": [
       "<matplotlib.axes._subplots.AxesSubplot at 0x7fb46d8b7860>"
      ]
     },
     "execution_count": 31,
     "metadata": {},
     "output_type": "execute_result"
    },
    {
     "data": {
      "image/png": "[encoded data removed]",
      "text/plain": [
       "<Figure size 432x288 with 1 Axes>"
      ]
     },
     "metadata": {
      "image/png": {
       "height": 250,
       "width": 389
      },
      "needs_background": "light"
     },
     "output_type": "display_data"
    }
   ],
   "source": [
    "DAY = 24 * 60 * 60\n",
    "\n",
    "ratings_df \\\n",
    "    .withColumn('next_timestamp', F.lead('timestamp').over(user_window)) \\\n",
    "    .filter(F.col('next_timestamp').isNotNull()) \\\n",
    "    .withColumn('delta', (F.col('next_timestamp') - F.col('timestamp')) / F.lit(DAY)) \\\n",
    "    .select('delta') \\\n",
    "    .filter(F.col('delta') <= 365) \\\n",
    "    .sample(False, 0.1) \\\n",
    "    .toPandas().plot.hist(bins=100, logy=True)"
   ]
  },
  {
   "cell_type": "markdown",
   "metadata": {},
   "source": [
    "---\n",
    "# Упражнения. Recommender System\n",
    "\n",
    "Пусть $U$ - множество пользователей, $I$ - множество фильмов, и $R = (r_{ui})$ - матрица рейтингов. \n",
    "\n",
    "Через $R_u$ будем обозначать строку матрицы $R$, соотвествующую пользователю $u$.\n",
    "\n",
    "## Most similar items\n",
    "\n",
    "Для каждого фильма $i$ определим множество $U(i) = \\{ u \\in U \\mid r_{ui} \\neq 0 \\}$ - множество пользователей, поставивших фильму $i$ оценку.\n",
    "\n",
    "Тогда мы можем определить множество $I(i) = \\left\\{ i' \\in I ~\\Big|~ sim(i, i') = \\frac{|U(i) ~\\cap~ U(i')|}{|U(i) ~\\cup~ U(i')|} > \\delta \\right\\}$ - множество похожих фильмов.\n",
    "\n",
    "Можно отсортировать элементы множества $I(i)$ по неубыванию $sim(i, i')$.\n",
    "\n",
    "Реализуйте функцию, которая на вход получает `movie_id` и возвращает топ `N` фильмов отранжированных по $sim$."
   ]
  },
  {
   "cell_type": "code",
   "execution_count": 71,
   "metadata": {},
   "outputs": [],
   "source": [
    "def similar_movies(movie_id, N=5, delta=0.001):\n",
    "    ratings_movie_id = ratings_df.filter(F.col('movie_id') == movie_id).select('user_id').alias('ratings_movie_id')\n",
    "    ratings_without_movie_id = ratings_df.filter(F.col('movie_id') != movie_id).alias('ratings_wo_movie_id')\n",
    "    intersect_count = ratings_movie_id \\\n",
    "        .crossJoin(ratings_without_movie_id) \\\n",
    "        .filter(F.col('ratings_movie_id.user_id') == F.col('ratings_wo_movie_id.user_id')) \\\n",
    "        .groupby('ratings_wo_movie_id.movie_id') \\\n",
    "        .agg(F.count('ratings_wo_movie_id.user_id').alias('count_intersect'))\n",
    "    movie_id_count = ratings_df.filter(F.col('movie_id') == movie_id).count()\n",
    "    movies_count = ratings_df.filter(F.col('movie_id') != movie_id) \\\n",
    "                   .groupby(F.col('movie_id')).agg(F.count('user_id').alias('count'))\n",
    "    return intersect_count.join(movies_count, intersect_count.movie_id == movies_count.movie_id) \\\n",
    "        .withColumn('sim', F.col('count_intersect')/(movie_id_count + F.col('ratings_wo_movie_id.movie_id') - F.col('count_intersect'))) \\\n",
    "        .filter(F.col('sim') > delta) \\\n",
    "        .sort(F.col('sim').desc()) \\\n",
    "        .limit(N)\n",
    "    \n",
    "sim_movies = similar_movies(356)"
   ]
  },
  {
   "cell_type": "code",
   "execution_count": 72,
   "metadata": {},
   "outputs": [
    {
     "name": "stdout",
     "output_type": "stream",
     "text": [
      "+--------+---------------+--------+-----+--------------------+\n",
      "|movie_id|count_intersect|movie_id|count|                 sim|\n",
      "+--------+---------------+--------+-----+--------------------+\n",
      "|     260|              8|     260|  676| 0.00749063670411985|\n",
      "|       1|              6|       1|  560|0.007398273736128237|\n",
      "|     318|              8|     318|  822|0.007104795737122558|\n",
      "|     292|              7|     292|  231|0.006357856494096276|\n",
      "|     185|              5|     185|  239|0.005020080321285...|\n",
      "+--------+---------------+--------+-----+--------------------+\n",
      "\n"
     ]
    }
   ],
   "source": [
    "sim_movies.show()"
   ]
  },
  {
   "cell_type": "markdown",
   "metadata": {},
   "source": [
    "Построим несколько вариантов простой Рекомендательной Системы.\n",
    "\n",
    "*Основная цель:* порекомендовать фильм пользователю. (Для простоты опустим информацию о самих рейтингах)\n",
    "\n",
    "## Methods\n",
    "\n",
    "При разработке сложных методов, сначала нужно выбрать несколько простотых методов (`Baseline`), относительно которых мы будем сравнивать новый метод.\n",
    "\n",
    "### POP\n",
    "\n",
    "Будем всегда рекомендовать самые популярные фильмы (с наибольшим цислом оценок пользователей).\n",
    "\n",
    "Не смотря на свою простоту, в ряде задач показывает себя достаточно хорошо."
   ]
  },
  {
   "cell_type": "code",
   "execution_count": 73,
   "metadata": {},
   "outputs": [],
   "source": [
    "movies_count = ratings_df \\\n",
    "               .groupby(F.col('movie_id')).agg(F.count('user_id').alias('count')) \\\n",
    "               .sort(F.col('count').desc())"
   ]
  },
  {
   "cell_type": "code",
   "execution_count": 74,
   "metadata": {},
   "outputs": [
    {
     "name": "stdout",
     "output_type": "stream",
     "text": [
      "+--------+-----+\n",
      "|movie_id|count|\n",
      "+--------+-----+\n",
      "|     318|  822|\n",
      "|     356|  816|\n",
      "|    2571|  739|\n",
      "|     296|  731|\n",
      "|     593|  728|\n",
      "|     260|  676|\n",
      "|     480|  650|\n",
      "|    1196|  579|\n",
      "|     527|  577|\n",
      "|     589|  574|\n",
      "|     110|  571|\n",
      "|    2959|  567|\n",
      "|      50|  567|\n",
      "|    1210|  562|\n",
      "|       1|  560|\n",
      "|     858|  560|\n",
      "|    4993|  557|\n",
      "|    2858|  526|\n",
      "|    1198|  526|\n",
      "|    5952|  515|\n",
      "+--------+-----+\n",
      "only showing top 20 rows\n",
      "\n"
     ]
    }
   ],
   "source": [
    "movies_count.show()"
   ]
  },
  {
   "cell_type": "markdown",
   "metadata": {},
   "source": [
    "### User-based Collaborative Filtering\n",
    "\n",
    "1. Для пользователя $u$ определим множество похожих пользователей как \n",
    "\n",
    "$$U(u) = \\left\\{ u' \\in U \\mid sim(u, u') > \\alpha \\right\\},$$\n",
    "\n",
    "где $sim(u, u')$ — одна из возможных мер близости $u'$ к $u$, например, косинусная близость между $R_{u}$ и $R_{u'}$\n",
    "\n",
    "2. $$I(u) = \\left\\{ i \\in I ~\\Big|~ B(i) = \\frac{|U(u) ~\\cap~ U(i)|}{|U(u) ~\\cup~ U(i)|} > 0 \\right\\}$$\n",
    "\n",
    "\n",
    "3. Отсортировать $i \\in I(u)$ по убыванию $B(i)$, взять top $N$"
   ]
  },
  {
   "cell_type": "code",
   "execution_count": 11,
   "metadata": {},
   "outputs": [],
   "source": [
    "user_id = 1677\n",
    "sum_ratings_square = ratings_df \\\n",
    "    .select(['rating', 'user_id']) \\\n",
    "    .withColumn('rating_square', F.col('rating')*F.col('rating')) \\\n",
    "    .groupby('user_id').agg(F.sum('rating_square').alias('sum_r_s'))"
   ]
  },
  {
   "cell_type": "code",
   "execution_count": 13,
   "metadata": {},
   "outputs": [],
   "source": [
    "user_ratings = ratings_df.where(F.col('user_id') == user_id) \\\n",
    "    .select(F.col('movie_id').alias('user_movie_id'), F.col('rating').alias('user_rating'))"
   ]
  },
  {
   "cell_type": "code",
   "execution_count": 14,
   "metadata": {},
   "outputs": [],
   "source": [
    "user_sum_ratings_square = user_ratings.withColumn('user_ratings_square', F.col('user_rating')*F.col('user_rating')) \\\n",
    "    .groupby().sum('user_rating').collect()[0][0]"
   ]
  },
  {
   "cell_type": "code",
   "execution_count": 15,
   "metadata": {},
   "outputs": [],
   "source": [
    "for_multiply = user_ratings.crossJoin(ratings_df) \\\n",
    "    .filter(F.col('user_movie_id') == F.col('movie_id'))"
   ]
  },
  {
   "cell_type": "code",
   "execution_count": 25,
   "metadata": {},
   "outputs": [],
   "source": [
    "v_prod = for_multiply.withColumn('multiply', F.col('user_rating')*F.col('rating')) \\\n",
    "    .groupby(F.col('user_id')).agg(F.sum('multiply').alias('v_prod'))"
   ]
  },
  {
   "cell_type": "code",
   "execution_count": 26,
   "metadata": {},
   "outputs": [],
   "source": [
    "alpha = 10\n",
    "user_sim = v_prod.join(sum_ratings_square, ['user_id']) \\\n",
    "    .withColumn('user_sim', F.col('v_prod')/(F.sqrt(F.col('sum_r_s')) * math.sqrt(user_sum_ratings_square))) \\\n",
    "    .filter(F.col('user_sim') > alpha)"
   ]
  },
  {
   "cell_type": "code",
   "execution_count": 27,
   "metadata": {},
   "outputs": [],
   "source": [
    "user_sim_count = user_sim.count()"
   ]
  },
  {
   "cell_type": "code",
   "execution_count": 28,
   "metadata": {},
   "outputs": [
    {
     "data": {
      "text/plain": [
       "0"
      ]
     },
     "execution_count": 28,
     "metadata": {},
     "output_type": "execute_result"
    }
   ],
   "source": [
    "user_sim_count"
   ]
  },
  {
   "cell_type": "code",
   "execution_count": null,
   "metadata": {},
   "outputs": [],
   "source": [
    "movies_count = ratings_df.filter(F.col('movie_id') != movie_id) \\\n",
    "               .groupby(F.col('movie_id')).agg(F.count('user_id').alias('count'))"
   ]
  },
  {
   "cell_type": "code",
   "execution_count": null,
   "metadata": {},
   "outputs": [],
   "source": [
    "intersect_count = user_sim.join(ratings_df.alias('movie_df'), F.col('R_user_id') == F.col('movie_df.user_id')) \\\n",
    "    .groupby('movie_df.movie_id') \\\n",
    "    .agg(F.count('movie_df.user_id').alias('intersect_user_id'))"
   ]
  },
  {
   "cell_type": "code",
   "execution_count": null,
   "metadata": {},
   "outputs": [],
   "source": [
    "intersect_count.show()"
   ]
  },
  {
   "cell_type": "code",
   "execution_count": null,
   "metadata": {},
   "outputs": [],
   "source": [
    "B_df = intersect_count.join(movies_count, intersect_count.movie_id == movies_count.movie_id) \\\n",
    "    .withColumn('B', F.col('intersect_user_id')/(user_sim_count + F.col('count') - F.col('intersect_user_id')))"
   ]
  },
  {
   "cell_type": "code",
   "execution_count": null,
   "metadata": {},
   "outputs": [],
   "source": [
    "B_df.show()"
   ]
  },
  {
   "cell_type": "markdown",
   "metadata": {},
   "source": [
    "### Item-kNN\n",
    "\n",
    "1. Для пользователя $u$ мы знаем $R(u) = \\{ i \\in I \\mid r_{ui} \\neq 0 \\} $\n",
    "\n",
    "\n",
    "2. Для каждого $i \\in R(u)$ построим $I(i)$ - множество похожих фильмов\n",
    "\n",
    "\n",
    "3. Отсортируем элементы множества $ \\bigcup_{i \\in R(u)} I(i) $, возьмем top $N$"
   ]
  },
  {
   "cell_type": "code",
   "execution_count": null,
   "metadata": {},
   "outputs": [],
   "source": [
    "user_id = 1677\n",
    "user_movies = ratings_df.filter(F.col('user_id') == user_id).alias('user_movies')\n",
    "user_movies.show()"
   ]
  },
  {
   "cell_type": "code",
   "execution_count": null,
   "metadata": {},
   "outputs": [],
   "source": [
    "ratings_df_users = ratings_df.join(user_movies, ['movie_id'])"
   ]
  },
  {
   "cell_type": "code",
   "execution_count": null,
   "metadata": {},
   "outputs": [],
   "source": [
    "ratings_df_users.show()"
   ]
  },
  {
   "cell_type": "code",
   "execution_count": null,
   "metadata": {},
   "outputs": [],
   "source": [
    "intersect_count = ratings_df_users.alias('df_users') \\\n",
    "    .crossJoin(ratings_df.alias('all_movies')) \\\n",
    "    .filter(F.col('df_users.user_id') == F.col('all_movies.user_id')) \\\n",
    "    .groupby('all_movies.movie_id') \\\n",
    "    .agg(F.count('all_movies.user_id').alias('count_intersect'))"
   ]
  },
  {
   "cell_type": "code",
   "execution_count": null,
   "metadata": {},
   "outputs": [],
   "source": [
    "intersect_count.show()"
   ]
  },
  {
   "cell_type": "code",
   "execution_count": null,
   "metadata": {},
   "outputs": [],
   "source": [
    "movie_id_count = ratings_df.filter(F.col('movie_id') == movie_id).count()\n",
    "movies_count = ratings_df.filter(F.col('movie_id') != movie_id) \\\n",
    "               .groupby(F.col('movie_id')).agg(F.count('user_id').alias('count'))\n",
    "intersect_count.join(movies_count, intersect_count.movie_id == movies_count.movie_id) \\\n",
    "    .withColumn('sim', F.col('count_intersect')/(movie_id_count + F.col('ratings_wo_movie_id.movie_id') - F.col('count_intersect'))) \\\n",
    "    .filter(F.col('sim') > delta)"
   ]
  },
  {
   "cell_type": "markdown",
   "metadata": {},
   "source": [
    "## Evaluation Protocol\n",
    "\n",
    "Теперь опишем, как будем оценивать качество рассматриваемых методов.\n",
    "\n",
    "### Data Splits\n",
    "\n",
    "Так как в данных `ratings` есть поле `timestamp`, то для каждого пользователя отсортируем его рейтинги по времени и первые $80\\%$ рейтингов отнесем в `Train`, еще $10\\%$ в `Validation`, и остальное в `Test`.\n"
   ]
  },
  {
   "cell_type": "code",
   "execution_count": null,
   "metadata": {},
   "outputs": [],
   "source": [
    "######################################\n",
    "######### YOUR CODE HERE #############\n",
    "######################################"
   ]
  },
  {
   "cell_type": "markdown",
   "metadata": {},
   "source": [
    "### Metrics\n",
    "\n",
    "В `Test` для каждого пользователя есть `user_id, R_u`, где $R_u$ - множество фильмов, которым он поставил оценку. Для того чтобы оценить качество рассматриваемых методов будем для пользователя строить список из $N$ рекомендаций $\\hat{R}_{1\\colon N}$ и считать метрики.\n",
    "\n",
    "* $$ Precision@N = \\frac{|R_u \\cap \\hat{R}_{1\\colon N} |}{N} $$\n",
    "* $$ Recall@N = \\frac{|R_u \\cap \\hat{R}_{1\\colon N} |}{|R_u|} $$\n",
    "* $Map@N$\n",
    "\n",
    "где $N \\in \\{1,5,10\\}$\n",
    "\n",
    "https://spark.apache.org/docs/latest/mllib-evaluation-metrics.html#ranking-systems"
   ]
  },
  {
   "cell_type": "code",
   "execution_count": null,
   "metadata": {},
   "outputs": [],
   "source": [
    "######################################\n",
    "######### YOUR CODE HERE #############\n",
    "######################################"
   ]
  },
  {
   "cell_type": "markdown",
   "metadata": {},
   "source": [
    "## Experimental Results\n",
    "\n",
    "Посмотрим на результаты\n",
    "\n",
    "*Remark* скорее всего посчитать метрики для всех пользователей будет довольно долго - можно ограничится, например, случайными 10к пользователями"
   ]
  },
  {
   "cell_type": "code",
   "execution_count": null,
   "metadata": {},
   "outputs": [],
   "source": [
    "######################################\n",
    "######### YOUR CODE HERE #############\n",
    "######################################"
   ]
  }
 ],
 "metadata": {
  "kernelspec": {
   "display_name": "Python 3",
   "language": "python",
   "name": "python3"
  },
  "language_info": {
   "codemirror_mode": {
    "name": "ipython",
    "version": 3
   },
   "file_extension": ".py",
   "mimetype": "text/x-python",
   "name": "python",
   "nbconvert_exporter": "python",
   "pygments_lexer": "ipython3",
   "version": "3.5.6"
  },
  "toc": {
   "base_numbering": 1,
   "nav_menu": {
    "height": "431.997px",
    "width": "329.514px"
   },
   "number_sections": true,
   "sideBar": true,
   "skip_h1_title": false,
   "title_cell": "Table of Contents",
   "title_sidebar": "Contents",
   "toc_cell": false,
   "toc_position": {
    "height": "calc(100% - 180px)",
    "left": "10px",
    "top": "150px",
    "width": "321.545px"
   },
   "toc_section_display": true,
   "toc_window_display": true
  }
 },
 "nbformat": 4,
 "nbformat_minor": 2
}
